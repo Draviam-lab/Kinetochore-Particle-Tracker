{
 "cells": [
  {
   "cell_type": "code",
   "execution_count": 1,
   "metadata": {},
   "outputs": [
    {
     "data": {
      "text/plain": [
       "'\\nThis is the methods notebook for  SKaWT-Q70* Datasets.\\n\\nCopyright (C) 2021 - Trupti Gore.\\n\\nLicense: GPL-3. \\n'"
      ]
     },
     "execution_count": 1,
     "metadata": {},
     "output_type": "execute_result"
    }
   ],
   "source": [
    "'''\n",
    "This is the methods notebook for  SKaWT-Q70* Datasets.\n",
    "\n",
    "Copyright (C) 2021 - Trupti Gore.\n",
    "\n",
    "License: GPL-3. \n",
    "'''\n",
    "\n"
   ]
  },
  {
   "cell_type": "code",
   "execution_count": 2,
   "metadata": {},
   "outputs": [],
   "source": [
    "# import necessary modules\n",
    "from skimage import io\n",
    "import matplotlib.pyplot as plt\n",
    "import numpy as np\n",
    "import skimage.filters as filters\n",
    "import skimage.color as color\n",
    "from PIL import Image\n",
    "import pandas as pd\n",
    "from skimage.util import img_as_float\n",
    "from skimage.color import label2rgb, rgb2gray,gray2rgb\n",
    "from skimage import segmentation,morphology,feature,measure,filters\n",
    "from scipy import ndimage as ndi\n",
    "import glob\n",
    "from natsort import natsorted \n",
    "import os\n",
    "import glob\n",
    "import re\n",
    "import random"
   ]
  },
  {
   "cell_type": "code",
   "execution_count": 3,
   "metadata": {},
   "outputs": [],
   "source": [
    "# import function file\n",
    "%run functions-Method-ska.ipynb\n",
    "random.seed(3)"
   ]
  },
  {
   "cell_type": "code",
   "execution_count": 4,
   "metadata": {},
   "outputs": [],
   "source": [
    "# path to the local folder for the notebooks\n",
    "BASE_DIR=\"/Users/Trupti/07-ImageAnalysis/\" \n",
    "#path to the image folder\n",
    "\n",
    "FOLDER=\"SKA\"\n",
    "IMAGE_DIR=BASE_DIR + \"data/CMovie/\" + FOLDER + \"/\"\n",
    "CSV_DIR = BASE_DIR + \"Kinetochore-Particle-Tracker/AnalysisResults/CMovie/\" + FOLDER +\"/\" + \"csvs/\"\n",
    "GRAPHS_DIR= BASE_DIR + \"Kinetochore-Particle-Tracker/GraphAnalysis/AstrinSka/\"\n",
    "\n"
   ]
  },
  {
   "cell_type": "markdown",
   "metadata": {},
   "source": [
    "#### A List for the Images Folders"
   ]
  },
  {
   "cell_type": "code",
   "execution_count": 5,
   "metadata": {},
   "outputs": [],
   "source": [
    "wt=[]\n",
    "mut=[]\n",
    "wt_path = IMAGE_DIR + 'wt'\n",
    "mut_path=IMAGE_DIR + 'mutant'\n",
    "\n",
    "for folder in glob.glob(wt_path + '/*'):\n",
    "    wt.append(wt_path + '/' + folder.split('/')[-1].split('.')[0])\n",
    "for folder in glob.glob(mut_path + '/*'):\n",
    "    mut.append(mut_path + '/' + folder.split('/')[-1].split('.')[0])     \n"
   ]
  },
  {
   "cell_type": "code",
   "execution_count": 6,
   "metadata": {},
   "outputs": [
    {
     "name": "stdout",
     "output_type": "stream",
     "text": [
      "NaNs removed from EXPT-2021-005-SET5_GFP-SKA3WT_CENPBdsRed_MG132_MITOSIS1_R3D_D3D \n",
      "NaNs removed from EXPT-2021-005-SET6_GFP-SKA3WT_CENPBdsRed_MG132_MITOSIS3_R3D_D3D \n"
     ]
    },
    {
     "data": {
      "text/plain": [
       "<Figure size 432x288 with 0 Axes>"
      ]
     },
     "metadata": {},
     "output_type": "display_data"
    }
   ],
   "source": [
    "# For wt\n",
    "\n",
    "for i in range(len(wt)):\n",
    "    \n",
    "    df_GFP_ska,df_CENP_B_ds_red=method_cenpb(wt[i],FOLDER)\n",
    "    \n",
    "    df=pd.merge(df_GFP_ska, df_CENP_B_ds_red,  how='outer',on=['label','area']\n",
    "                                                       ,suffixes=('_GFP_ska', '_CENP_B_ds_red'))\n",
    "    \n",
    "    directory=wt[i].split('/')[-1].split('.')[0] # to create a folder per experiment to save csvs\n",
    "    path = CSV_DIR + 'wt/' + directory\n",
    "    \n",
    "    try:\n",
    "        os.makedirs(path)\n",
    "    except FileExistsError:\n",
    "    # directory already exists\n",
    "        pass\n",
    "    #pd.concat([df1,df_cdki,df_dmso],ignore_index=True)\n",
    "    check_nan_in_df = df.isnull().values.any()\n",
    "    if check_nan_in_df >0:\n",
    "        df=df.dropna()\n",
    "        print(\"NaNs removed from %s \" %( directory))\n",
    "    \n",
    "    df.to_csv(path + '/' + 'particles'+'.csv',index=False) \n",
    "   "
   ]
  },
  {
   "cell_type": "code",
   "execution_count": 7,
   "metadata": {},
   "outputs": [],
   "source": [
    "# For control\n",
    "\n",
    "for i in range(len(mut)):\n",
    "    \n",
    "    df_GFP_ska,df_CENP_B_ds_red=method_cenpb(mut[i],FOLDER) \n",
    "    \n",
    "    df=pd.merge(df_GFP_ska, df_CENP_B_ds_red,  how='outer',on=['label','area']\n",
    "                                                       ,suffixes=('_GFP_ska', '_CENP_B_ds_red'))\n",
    "    \n",
    "    directory=mut[i].split('/')[-1].split('.')[0] # to create a folder per experiment to save csvs\n",
    "    path = CSV_DIR + 'mut/' + directory\n",
    "    try:\n",
    "        os.makedirs(path)\n",
    "    except FileExistsError:\n",
    "    # directory already exists\n",
    "        pass\n",
    "    #pd.concat([df1,df_cdki,df_dmso],ignore_index=True)\n",
    "    check_nan_in_df = df.isnull().values.any()\n",
    "    if check_nan_in_df >0:\n",
    "        df=df.dropna()\n",
    "        print(\"NaNs removed from %s \" %( directory))\n",
    "    \n",
    "    df.to_csv(path + '/' + 'particles'+'.csv',index=False) \n",
    "   "
   ]
  },
  {
   "cell_type": "markdown",
   "metadata": {},
   "source": [
    "### Generate csv files for all cells"
   ]
  },
  {
   "cell_type": "code",
   "execution_count": 8,
   "metadata": {},
   "outputs": [],
   "source": [
    "\n",
    "# The paths are for the generated csv files\n",
    "wt_csv=[]\n",
    "mut_csv=[]\n",
    "wt_path = CSV_DIR + 'wt'\n",
    "mut_path=CSV_DIR + 'mutant'\n",
    "\n",
    "for folder in natsorted(glob.glob(wt_path + '/*')):\n",
    "    wt_csv.append(wt_path + '/' + folder.split('/')[-1].split('.')[0])\n",
    "    \n",
    "for folder in natsorted(glob.glob(mut_path + '/*')):\n",
    "    mut_csv.append(mut_path + '/' + folder.split('/')[-1].split('.')[0])  \n",
    "  "
   ]
  },
  {
   "cell_type": "code",
   "execution_count": 9,
   "metadata": {},
   "outputs": [],
   "source": [
    "# read wildtype csvs to a dataframe\n",
    "cell_count=1\n",
    "path = GRAPHS_DIR + FOLDER\n",
    "try:\n",
    "    os.makedirs(path)\n",
    "except FileExistsError:\n",
    "    # directory already exists\n",
    "    pass\n",
    "df_graph_wt=pd.DataFrame()\n",
    "for i in range(len(wt_csv)):\n",
    "    df_wt=pd.read_csv(wt_csv[i]+'/'+'Particles.csv')\n",
    "    df_wt['CENP_B_ds_red@kt/CENP_B_ds_red@cyto']= df_wt['mean_intensity_CENP_B_ds_red']/df_wt['CENP_B_ds_red_cyto']\n",
    "    df_wt['GFP_ska@kt/GFP_ska@cyto']= df_wt['mean_intensity_GFP_ska']/df_wt['GFP_ska_cyto']\n",
    "    df_wt['CENP_B_ds_red@kt/CENP_B_ds_red@cyto:GFP_ska@kt/GFP_ska@cyto']= df_wt['CENP_B_ds_red@kt/CENP_B_ds_red@cyto'] / df_wt['GFP_ska@kt/GFP_ska@cyto']\n",
    "    df_wt['condition']='WildType'\n",
    "    df_wt['cell']=FOLDER+\"_\"+'WildT_cell_'+str(cell_count)\n",
    "    expt_name=re.sub(r'^.+/([^/]+)$', r'\\1', wt_csv[i])\n",
    "    df_wt['Experiment']= expt_name\n",
    "    fname=FOLDER+'wt_'+ str(i)\n",
    "    df_wt_final=outliers_ska(df_wt)\n",
    "    df_wt_final.to_csv(GRAPHS_DIR + FOLDER+'/' + fname +'.csv') \n",
    "    df_graph_wt=pd.concat([df_graph_wt,df_wt_final],ignore_index=True)    \n",
    "    cell_count+=1\n",
    "#df_graph_wt = df_graph_wt.drop(columns=[\"Unnamed: 0\"], axis=1)    \n",
    "\n",
    "df_graph_wt.to_csv(GRAPHS_DIR + FOLDER+'/' +FOLDER+ \"_\" +'wt_ska_graphs'+'.csv',index=False) \n",
    "\n"
   ]
  },
  {
   "cell_type": "code",
   "execution_count": 10,
   "metadata": {},
   "outputs": [],
   "source": [
    "\n",
    "# read Q70K\n",
    "cell_count=1\n",
    "path = GRAPHS_DIR + FOLDER\n",
    "try:\n",
    "    os.makedirs(path)\n",
    "except FileExistsError:\n",
    "    # directory already exists\n",
    "    pass\n",
    "df_graph_mut=pd.DataFrame()\n",
    "for i in range(len(mut_csv)):\n",
    "    df_mut=pd.read_csv(mut_csv[i]+'/'+'Particles.csv')\n",
    "    df_mut['CENP_B_ds_red@kt/CENP_B_ds_red@cyto']= df_mut['mean_intensity_CENP_B_ds_red']/df_mut['CENP_B_ds_red_cyto']\n",
    "    df_mut['GFP_ska@kt/GFP_ska@cyto']= df_mut['mean_intensity_GFP_ska']/df_mut['GFP_ska_cyto']\n",
    "    df_mut['CENP_B_ds_red@kt/CENP_B_ds_red@cyto:GFP_ska@kt/GFP_ska@cyto']= df_mut['CENP_B_ds_red@kt/CENP_B_ds_red@cyto'] / df_mut['GFP_ska@kt/GFP_ska@cyto']\n",
    "    df_mut['condition']='Q70K'\n",
    "    df_mut['cell']=FOLDER+\"_\"+'Q70K_cell_'+str(cell_count)\n",
    "    expt_name=re.sub(r'^.+/([^/]+)$', r'\\1', mut_csv[i])\n",
    "    df_mut['Experiment']= expt_name\n",
    "    fname=FOLDER+'mut_'+str(i)\n",
    "    df_mut_final=outliers_ska(df_mut)\n",
    "    df_mut_final.to_csv(GRAPHS_DIR + FOLDER+'/' + fname +'.csv') \n",
    "    df_graph_mut=pd.concat([df_graph_mut,df_mut_final],ignore_index=True)  \n",
    "    cell_count+=1\n",
    "    \n",
    "#df_graph_mut = df_graph_mut.drop(columns=[\"Unnamed: 0\"], axis=1)    \n",
    "\n",
    "df_graph_mut.to_csv(GRAPHS_DIR + FOLDER+'/' +FOLDER+ \"_\" + 'mut_ska_graphs'+'.csv',index=False) \n"
   ]
  },
  {
   "cell_type": "code",
   "execution_count": 12,
   "metadata": {},
   "outputs": [
    {
     "name": "stdout",
     "output_type": "stream",
     "text": [
      "3587\n",
      "3000\n",
      "6587\n"
     ]
    }
   ],
   "source": [
    "df_graph=pd.DataFrame()\n",
    "df_graph=pd.concat([df_graph,df_graph_wt,df_graph_mut],ignore_index=True)\n",
    "print(len(df_graph_wt))\n",
    "print(len(df_graph_mut))\n",
    "print(len(df_graph))\n",
    "df_graph.head()\n",
    "df_graph.to_csv(GRAPHS_DIR + FOLDER+'/' +FOLDER+ \"_\" + 'ska_wt_combined_graphs'+'.csv',index=False) \n",
    "#df_graph.head()"
   ]
  },
  {
   "cell_type": "code",
   "execution_count": null,
   "metadata": {},
   "outputs": [],
   "source": []
  }
 ],
 "metadata": {
  "kernelspec": {
   "display_name": "Python 3 (ipykernel)",
   "language": "python",
   "name": "python3"
  },
  "language_info": {
   "codemirror_mode": {
    "name": "ipython",
    "version": 3
   },
   "file_extension": ".py",
   "mimetype": "text/x-python",
   "name": "python",
   "nbconvert_exporter": "python",
   "pygments_lexer": "ipython3",
   "version": "3.7.7"
  }
 },
 "nbformat": 4,
 "nbformat_minor": 4
}
