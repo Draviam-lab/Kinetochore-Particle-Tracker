{
 "cells": [
  {
   "cell_type": "code",
   "execution_count": 1,
   "metadata": {},
   "outputs": [
    {
     "data": {
      "text/plain": [
       "'\\nThis is the methods notebook for AstrinWT-p.Q1012* Datasets.\\n\\nCopyright (C) 2021 - Trupti Gore.\\n\\nLicense: GPL-3. \\n'"
      ]
     },
     "execution_count": 1,
     "metadata": {},
     "output_type": "execute_result"
    }
   ],
   "source": [
    "'''\n",
    "This is the methods notebook for AstrinWT-p.Q1012* Datasets.\n",
    "\n",
    "Copyright (C) 2021 - Trupti Gore.\n",
    "\n",
    "License: GPL-3. \n",
    "'''\n",
    "\n"
   ]
  },
  {
   "cell_type": "code",
   "execution_count": 2,
   "metadata": {},
   "outputs": [],
   "source": [
    "# import necessary modules\n",
    "from skimage import io\n",
    "import matplotlib.pyplot as plt\n",
    "import numpy as np\n",
    "import skimage.filters as filters\n",
    "import skimage.color as color\n",
    "from PIL import Image\n",
    "import pandas as pd\n",
    "from skimage.util import img_as_float\n",
    "from skimage.color import label2rgb, rgb2gray,gray2rgb\n",
    "from skimage import segmentation,morphology,feature,measure,filters\n",
    "from scipy import ndimage as ndi\n",
    "import glob\n",
    "from natsort import natsorted \n",
    "import os\n",
    "import glob\n",
    "import re\n",
    "import random"
   ]
  },
  {
   "cell_type": "code",
   "execution_count": 21,
   "metadata": {},
   "outputs": [],
   "source": [
    "# import function file\n",
    "%run functions_AstrinWT.ipynb\n",
    "random.seed(3)"
   ]
  },
  {
   "cell_type": "code",
   "execution_count": 16,
   "metadata": {},
   "outputs": [],
   "source": [
    "# path to the local folder for the notebooks\n",
    "BASE_DIR=\"../../07-ImageAnalysis/\" \n",
    "#path to the image folder\n",
    "\n",
    "FOLDER=\"set6\"\n",
    "IMAGE_DIR=BASE_DIR + \"data/AMovie/\" + FOLDER + \"/\"\n",
    "CSV_DIR = BASE_DIR + \"Kinetochore-Particle-Tracker/AnalysisResults/AMovie/\" + FOLDER +\"/\" + \"csvs/\"\n",
    "GRAPHS_DIR= BASE_DIR + \"Kinetochore-Particle-Tracker/GraphAnalysis/AstrinWT/\"\n",
    "\n"
   ]
  },
  {
   "cell_type": "markdown",
   "metadata": {},
   "source": [
    "#### A List for the Images Folders"
   ]
  },
  {
   "cell_type": "code",
   "execution_count": 18,
   "metadata": {},
   "outputs": [],
   "source": [
    "wt=[]\n",
    "mut=[]\n",
    "wt_path = IMAGE_DIR + 'wt'\n",
    "mut_path=IMAGE_DIR + 'mutant'\n",
    "\n",
    "for folder in glob.glob(wt_path + '/*'):\n",
    "    wt.append(wt_path + '/' + folder.split('/')[-1].split('.')[0])\n",
    "for folder in glob.glob(mut_path + '/*'):\n",
    "    mut.append(mut_path + '/' + folder.split('/')[-1].split('.')[0])     \n"
   ]
  },
  {
   "cell_type": "code",
   "execution_count": 30,
   "metadata": {},
   "outputs": [
    {
     "data": {
      "text/plain": [
       "[]"
      ]
     },
     "execution_count": 30,
     "metadata": {},
     "output_type": "execute_result"
    }
   ],
   "source": [
    "mut"
   ]
  },
  {
   "cell_type": "code",
   "execution_count": 22,
   "metadata": {},
   "outputs": [
    {
     "name": "stderr",
     "output_type": "stream",
     "text": [
      "/var/folders/nw/b5trlz_d7819ystdc2gmcwbw0000gn/T/ipykernel_4660/4156651925.py:64: FutureWarning: The behavior of DataFrame concatenation with empty or all-NA entries is deprecated. In a future version, this will no longer exclude empty or all-NA columns when determining the result dtypes. To retain the old behavior, exclude the relevant entries before the concat operation.\n",
      "  df_cenpb_final=pd.concat([df_cenpb_final,df_cenpb],ignore_index=True)\n",
      "/var/folders/nw/b5trlz_d7819ystdc2gmcwbw0000gn/T/ipykernel_4660/4156651925.py:65: FutureWarning: The behavior of DataFrame concatenation with empty or all-NA entries is deprecated. In a future version, this will no longer exclude empty or all-NA columns when determining the result dtypes. To retain the old behavior, exclude the relevant entries before the concat operation.\n",
      "  df_astrin_final=pd.concat([df_astrin_final,df_astrin],ignore_index=True)\n"
     ]
    },
    {
     "name": "stdout",
     "output_type": "stream",
     "text": [
      "NaNs removed from Exp2018_032_setVI_HeLa_YFP-AstrinWT_CENPBdsRed_GFP_mcherry_01_R3D_D3D \n"
     ]
    },
    {
     "name": "stderr",
     "output_type": "stream",
     "text": [
      "/var/folders/nw/b5trlz_d7819ystdc2gmcwbw0000gn/T/ipykernel_4660/4156651925.py:64: FutureWarning: The behavior of DataFrame concatenation with empty or all-NA entries is deprecated. In a future version, this will no longer exclude empty or all-NA columns when determining the result dtypes. To retain the old behavior, exclude the relevant entries before the concat operation.\n",
      "  df_cenpb_final=pd.concat([df_cenpb_final,df_cenpb],ignore_index=True)\n",
      "/var/folders/nw/b5trlz_d7819ystdc2gmcwbw0000gn/T/ipykernel_4660/4156651925.py:65: FutureWarning: The behavior of DataFrame concatenation with empty or all-NA entries is deprecated. In a future version, this will no longer exclude empty or all-NA columns when determining the result dtypes. To retain the old behavior, exclude the relevant entries before the concat operation.\n",
      "  df_astrin_final=pd.concat([df_astrin_final,df_astrin],ignore_index=True)\n",
      "/var/folders/nw/b5trlz_d7819ystdc2gmcwbw0000gn/T/ipykernel_4660/4156651925.py:64: FutureWarning: The behavior of DataFrame concatenation with empty or all-NA entries is deprecated. In a future version, this will no longer exclude empty or all-NA columns when determining the result dtypes. To retain the old behavior, exclude the relevant entries before the concat operation.\n",
      "  df_cenpb_final=pd.concat([df_cenpb_final,df_cenpb],ignore_index=True)\n",
      "/var/folders/nw/b5trlz_d7819ystdc2gmcwbw0000gn/T/ipykernel_4660/4156651925.py:65: FutureWarning: The behavior of DataFrame concatenation with empty or all-NA entries is deprecated. In a future version, this will no longer exclude empty or all-NA columns when determining the result dtypes. To retain the old behavior, exclude the relevant entries before the concat operation.\n",
      "  df_astrin_final=pd.concat([df_astrin_final,df_astrin],ignore_index=True)\n"
     ]
    },
    {
     "data": {
      "text/plain": [
       "<Figure size 640x480 with 0 Axes>"
      ]
     },
     "metadata": {},
     "output_type": "display_data"
    }
   ],
   "source": [
    "# For wt\n",
    "\n",
    "for i in range(len(wt)):\n",
    "    \n",
    "    df_YFP_astrin,df_CENP_B_ds_red=method_cenpb(wt[i],FOLDER)#,YFP_astrin_cyto,CENP_B_ds_red_cyto,YFP_astrin_bg,CENP_B_ds_red_bg\n",
    "    \n",
    "    df=pd.merge(df_YFP_astrin, df_CENP_B_ds_red,  how='outer',on=['label','area']\n",
    "                                                       ,suffixes=('_YFP_astrin', '_CENP_B_ds_red'))\n",
    "    \n",
    "    directory=wt[i].split('/')[-1].split('.')[0] # to create a folder per experiment to save csvs\n",
    "    path = CSV_DIR + 'wt/' + directory\n",
    "    try:\n",
    "        os.makedirs(path)\n",
    "    except FileExistsError:\n",
    "    # directory already exists\n",
    "        pass\n",
    "    #pd.concat([df1,df_cdki,df_dmso],ignore_index=True)\n",
    "    check_nan_in_df = df.isnull().values.any()\n",
    "    if check_nan_in_df >0:\n",
    "        df=df.dropna()\n",
    "        print(\"NaNs removed from %s \" %( directory))\n",
    "   \n",
    "    df.to_csv(path + '/' + 'particles'+'.csv') \n",
    "   "
   ]
  },
  {
   "cell_type": "code",
   "execution_count": 29,
   "metadata": {},
   "outputs": [],
   "source": [
    "# For control\n",
    "\n",
    "for i in range(len(mut)):\n",
    "    \n",
    "    df_YFP_astrin,df_CENP_B_ds_red=method_cenpb(mut[i],FOLDER) #,YFP_astrin_cyto,CENP_B_ds_red_cyto,YFP_astrin_bg,CENP_B_ds_red_bg\n",
    "    \n",
    "    df=pd.merge(df_YFP_astrin, df_CENP_B_ds_red,  how='outer',on=['label','area']\n",
    "                                                       ,suffixes=('_YFP_astrin', '_CENP_B_ds_red'))\n",
    "    \n",
    "    directory=mut[i].split('/')[-1].split('.')[0] # to create a folder per experiment to save csvs\n",
    "    path = CSV_DIR + 'mut/' + directory\n",
    "    try:\n",
    "        os.makedirs(path)\n",
    "    except FileExistsError:\n",
    "    # directory already exists\n",
    "        pass\n",
    "    #pd.concat([df1,df_cdki,df_dmso],ignore_index=True)\n",
    "    check_nan_in_df = df.isnull().values.any()\n",
    "    if check_nan_in_df >0:\n",
    "        df=df.dropna()\n",
    "        print(\"NaNs removed from %s \" %( directory))\n",
    "    df.to_csv(path + '/' + 'particles'+'.csv') \n",
    "   "
   ]
  },
  {
   "cell_type": "markdown",
   "metadata": {},
   "source": [
    "### Generate csv files for all cells"
   ]
  },
  {
   "cell_type": "code",
   "execution_count": 25,
   "metadata": {},
   "outputs": [],
   "source": [
    "\n",
    "# The paths are for the generated csv files\n",
    "wt_csv=[]\n",
    "mut_csv=[]\n",
    "wt_path = CSV_DIR + 'wt'\n",
    "mut_path=CSV_DIR + 'mut'\n",
    "\n",
    "for folder in natsorted(glob.glob(wt_path + '/*')):\n",
    "    wt_csv.append(wt_path + '/' + folder.split('/')[-1].split('.')[0])\n",
    "    \n",
    "for folder in natsorted(glob.glob(mut_path + '/*')):\n",
    "    mut_csv.append(mut_path + '/' + folder.split('/')[-1].split('.')[0])  \n",
    "  "
   ]
  },
  {
   "cell_type": "code",
   "execution_count": 26,
   "metadata": {},
   "outputs": [],
   "source": [
    "# read wildtype csvs to a dataframe\n",
    "cell_count=1\n",
    "path = GRAPHS_DIR + FOLDER\n",
    "try:\n",
    "    os.makedirs(path)\n",
    "except FileExistsError:\n",
    "    # directory already exists\n",
    "    pass\n",
    "df_graph_wt=pd.DataFrame()\n",
    "for i in range(len(wt_csv)):\n",
    "    df_wt=pd.read_csv(wt_csv[i]+'/'+'Particles.csv')\n",
    "    df_wt['CENP_B_ds_red@kt/CENP_B_ds_red@cyto']= df_wt['mean_intensity_CENP_B_ds_red']/df_wt['CENP_B_ds_red_cyto']\n",
    "    df_wt['YFP_astrin@kt/YFP_astrin@cyto']= df_wt['mean_intensity_YFP_astrin']/df_wt['YFP_astrin_cyto']\n",
    "    df_wt['CENP_B_ds_red@kt/CENP_B_ds_red@cyto:YFP_astrin@kt/YFP_astrin@cyto']= df_wt['CENP_B_ds_red@kt/CENP_B_ds_red@cyto'] / df_wt['YFP_astrin@kt/YFP_astrin@cyto']\n",
    "    df_wt['condition']='WildType'\n",
    "    df_wt['cell']=FOLDER+\"_\"+'WildT_cell_'+str(cell_count)\n",
    "    expt_name=re.sub(r'^.+/([^/]+)$', r'\\1', wt_csv[i])\n",
    "    df_wt['Experiment']= expt_name\n",
    "    fname=FOLDER+'wt_'+ str(i)\n",
    "    df_wt_final=outliers_astrin(df_wt)\n",
    "    df_wt_final.to_csv(GRAPHS_DIR + FOLDER+'/' + fname +'.csv') \n",
    "    df_graph_wt=pd.concat([df_graph_wt,df_wt_final],ignore_index=True)    \n",
    "    cell_count+=1\n",
    "df_graph_wt = df_graph_wt.drop(columns=[\"Unnamed: 0\"], axis=1)    \n",
    "\n",
    "df_graph_wt.to_csv(GRAPHS_DIR + FOLDER+'/' +FOLDER+ \"_\" +'wt_astrin_graphs'+'.csv') \n",
    "\n"
   ]
  },
  {
   "cell_type": "code",
   "execution_count": 27,
   "metadata": {},
   "outputs": [],
   "source": [
    "\n",
    "# read q1012\n",
    "cell_count=1\n",
    "path = GRAPHS_DIR + FOLDER\n",
    "try:\n",
    "    os.makedirs(path)\n",
    "except FileExistsError:\n",
    "    # directory already exists\n",
    "    pass\n",
    "df_graph_mut=pd.DataFrame()\n",
    "for i in range(len(mut_csv)):\n",
    "    df_mut=pd.read_csv(mut_csv[i]+'/'+'Particles.csv')\n",
    "    df_mut['CENP_B_ds_red@kt/CENP_B_ds_red@cyto']= df_mut['mean_intensity_CENP_B_ds_red']/df_mut['CENP_B_ds_red_cyto']\n",
    "    df_mut['YFP_astrin@kt/YFP_astrin@cyto']= df_mut['mean_intensity_YFP_astrin']/df_mut['YFP_astrin_cyto']\n",
    "    df_mut['CENP_B_ds_red@kt/CENP_B_ds_red@cyto:YFP_astrin@kt/YFP_astrin@cyto']= df_mut['CENP_B_ds_red@kt/CENP_B_ds_red@cyto'] / df_mut['YFP_astrin@kt/YFP_astrin@cyto']\n",
    "    df_mut['condition']='Q1012'\n",
    "    df_mut['cell']=FOLDER+\"_\"+'Q1012_cell_'+str(cell_count)\n",
    "    expt_name=re.sub(r'^.+/([^/]+)$', r'\\1', mut_csv[i])\n",
    "    df_mut['Experiment']= expt_name\n",
    "    fname=FOLDER+'mut_'+str(i)\n",
    "    df_mut_final=outliers_astrin(df_mut)\n",
    "    df_mut_final.to_csv(GRAPHS_DIR + FOLDER+'/' + fname +'.csv') \n",
    "    df_graph_mut=pd.concat([df_graph_mut,df_mut_final],ignore_index=True)  \n",
    "    cell_count+=1\n",
    "    \n",
    "df_graph_mut = df_graph_mut.drop(columns=[\"Unnamed: 0\"], axis=1)    \n",
    "\n",
    "df_graph_mut.to_csv(GRAPHS_DIR + FOLDER+'/' +FOLDER+ \"_\" + 'mut_astrin_graphs'+'.csv') \n"
   ]
  },
  {
   "cell_type": "code",
   "execution_count": 28,
   "metadata": {},
   "outputs": [
    {
     "name": "stdout",
     "output_type": "stream",
     "text": [
      "984\n",
      "1107\n",
      "2091\n"
     ]
    }
   ],
   "source": [
    "df_graph=pd.DataFrame()\n",
    "df_graph=pd.concat([df_graph,df_graph_wt,df_graph_mut],ignore_index=True)\n",
    "print(len(df_graph_wt))\n",
    "print(len(df_graph_mut))\n",
    "print(len(df_graph))\n",
    "df_graph.head()\n",
    "df_graph.to_csv(GRAPHS_DIR + FOLDER+'/' +FOLDER+ \"_\" + 'astrin_wt_combined_graphs'+'.csv') \n",
    "#df_graph.head()"
   ]
  },
  {
   "cell_type": "code",
   "execution_count": null,
   "metadata": {},
   "outputs": [],
   "source": []
  }
 ],
 "metadata": {
  "kernelspec": {
   "display_name": "Python 3 (ipykernel)",
   "language": "python",
   "name": "python3"
  },
  "language_info": {
   "codemirror_mode": {
    "name": "ipython",
    "version": 3
   },
   "file_extension": ".py",
   "mimetype": "text/x-python",
   "name": "python",
   "nbconvert_exporter": "python",
   "pygments_lexer": "ipython3",
   "version": "3.11.5"
  }
 },
 "nbformat": 4,
 "nbformat_minor": 4
}
