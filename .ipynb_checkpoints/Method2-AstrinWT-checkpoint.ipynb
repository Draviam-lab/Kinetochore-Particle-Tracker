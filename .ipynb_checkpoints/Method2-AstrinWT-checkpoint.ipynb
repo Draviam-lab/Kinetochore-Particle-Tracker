{
 "cells": [
  {
   "cell_type": "code",
   "execution_count": 3,
   "metadata": {},
   "outputs": [
    {
     "data": {
      "text/plain": [
       "'\\nThis is the methods notebook for AstrinWT-p.Q1012* Datasets.\\n\\nCopyright (C) 2021 - Trupti Gore.\\n\\nLicense: GPL-3. \\n'"
      ]
     },
     "execution_count": 3,
     "metadata": {},
     "output_type": "execute_result"
    }
   ],
   "source": [
    "'''\n",
    "This is the methods notebook for AstrinWT-p.Q1012* Datasets.\n",
    "\n",
    "Copyright (C) 2021 - Trupti Gore.\n",
    "\n",
    "License: GPL-3. \n",
    "'''\n",
    "\n"
   ]
  },
  {
   "cell_type": "code",
   "execution_count": 1,
   "metadata": {},
   "outputs": [],
   "source": [
    "# import necessary modules\n",
    "from skimage import io\n",
    "import matplotlib.pyplot as plt\n",
    "import numpy as np\n",
    "import skimage.filters as filters\n",
    "import skimage.color as color\n",
    "from PIL import Image\n",
    "import pandas as pd\n",
    "from skimage.util import img_as_float\n",
    "from skimage.color import label2rgb, rgb2gray,gray2rgb\n",
    "from skimage import segmentation,morphology,feature,measure,filters\n",
    "from scipy import ndimage as ndi\n",
    "import glob\n",
    "from natsort import natsorted \n",
    "import os\n",
    "import glob\n",
    "import re\n",
    "import random"
   ]
  },
  {
   "cell_type": "code",
   "execution_count": 2,
   "metadata": {},
   "outputs": [],
   "source": [
    "# import function file\n",
    "%run functions-Method2.ipynb\n",
    "random.seed(3)"
   ]
  },
  {
   "cell_type": "code",
   "execution_count": 22,
   "metadata": {},
   "outputs": [],
   "source": [
    "# path to the local folder for the notebooks\n",
    "BASE_DIR=\"/Users/Trupti/07-ImageAnalysis/\" \n",
    "#path to the image folder\n",
    "\n",
    "FOLDER=\"set6\"\n",
    "IMAGE_DIR=BASE_DIR + \"data/AMovie/\" + FOLDER + \"/\"\n",
    "CSV_DIR = BASE_DIR + \"Kinetochore-Particle-Tracker/AnalysisResults/AMovie/\" + FOLDER +\"/\" + \"csvs/\"\n",
    "GRAPHS_DIR= BASE_DIR + \"Kinetochore-Particle-Tracker/GraphAnalysis/AstrinWT/\"\n",
    "\n"
   ]
  },
  {
   "cell_type": "markdown",
   "metadata": {},
   "source": [
    "#### A List for the Images Folders"
   ]
  },
  {
   "cell_type": "code",
   "execution_count": 23,
   "metadata": {},
   "outputs": [],
   "source": [
    "wt=[]\n",
    "ctrl=[]\n",
    "wt_path = IMAGE_DIR + 'wt'\n",
    "ctrl_path=IMAGE_DIR + 'control'\n",
    "\n",
    "for folder in glob.glob(wt_path + '/*'):\n",
    "    wt.append(wt_path + '/' + folder.split('/')[-1].split('.')[0])\n",
    "for folder in glob.glob(ctrl_path + '/*'):\n",
    "    ctrl.append(ctrl_path + '/' + folder.split('/')[-1].split('.')[0])     \n"
   ]
  },
  {
   "cell_type": "code",
   "execution_count": 24,
   "metadata": {},
   "outputs": [
    {
     "name": "stdout",
     "output_type": "stream",
     "text": [
      "NaNs removed from Exp2018_032_setVI_HeLa_YFP-AstrinWT_CENPBdsRed_GFP_mcherry_01_R3D_D3D \n"
     ]
    },
    {
     "data": {
      "text/plain": [
       "<Figure size 432x288 with 0 Axes>"
      ]
     },
     "metadata": {},
     "output_type": "display_data"
    }
   ],
   "source": [
    "# For wt\n",
    "\n",
    "for i in range(len(wt)):\n",
    "    \n",
    "    df_YFP_astrin,df_CENP_B_ds_red=method_cenpb(wt[i],FOLDER)#,YFP_astrin_cyto,CENP_B_ds_red_cyto,YFP_astrin_bg,CENP_B_ds_red_bg\n",
    "    \n",
    "    df=pd.merge(df_YFP_astrin, df_CENP_B_ds_red,  how='outer',on=['label','area']\n",
    "                                                       ,suffixes=('_YFP_astrin', '_CENP_B_ds_red'))\n",
    "    \n",
    "    directory=wt[i].split('/')[-1].split('.')[0] # to create a folder per experiment to save csvs\n",
    "    path = CSV_DIR + 'wt/' + directory\n",
    "    try:\n",
    "        os.makedirs(path)\n",
    "    except FileExistsError:\n",
    "    # directory already exists\n",
    "        pass\n",
    "    #pd.concat([df1,df_cdki,df_dmso],ignore_index=True)\n",
    "    check_nan_in_df = df.isnull().values.any()\n",
    "    if check_nan_in_df >0:\n",
    "        df=df.dropna()\n",
    "        print(\"NaNs removed from %s \" %( directory))\n",
    "   \n",
    "    df.to_csv(path + '/' + 'particles'+'.csv') \n",
    "   "
   ]
  },
  {
   "cell_type": "code",
   "execution_count": 25,
   "metadata": {},
   "outputs": [
    {
     "name": "stdout",
     "output_type": "stream",
     "text": [
      "NaNs removed from Exp2018_032_setVI_HeLa_YFP-AstrinQ1012_CENPBdsRed_GFP_mcherry_01_R3D_D3D \n"
     ]
    },
    {
     "data": {
      "text/plain": [
       "<Figure size 432x288 with 0 Axes>"
      ]
     },
     "metadata": {},
     "output_type": "display_data"
    }
   ],
   "source": [
    "# For control\n",
    "\n",
    "for i in range(len(ctrl)):\n",
    "    \n",
    "    df_YFP_astrin,df_CENP_B_ds_red=method_cenpb(ctrl[i],FOLDER) #,YFP_astrin_cyto,CENP_B_ds_red_cyto,YFP_astrin_bg,CENP_B_ds_red_bg\n",
    "    \n",
    "    df=pd.merge(df_YFP_astrin, df_CENP_B_ds_red,  how='outer',on=['label','area']\n",
    "                                                       ,suffixes=('_YFP_astrin', '_CENP_B_ds_red'))\n",
    "    \n",
    "    directory=ctrl[i].split('/')[-1].split('.')[0] # to create a folder per experiment to save csvs\n",
    "    path = CSV_DIR + 'ctrl/' + directory\n",
    "    try:\n",
    "        os.makedirs(path)\n",
    "    except FileExistsError:\n",
    "    # directory already exists\n",
    "        pass\n",
    "    #pd.concat([df1,df_cdki,df_dmso],ignore_index=True)\n",
    "    check_nan_in_df = df.isnull().values.any()\n",
    "    if check_nan_in_df >0:\n",
    "        df=df.dropna()\n",
    "        print(\"NaNs removed from %s \" %( directory))\n",
    "    df.to_csv(path + '/' + 'particles'+'.csv') \n",
    "   "
   ]
  },
  {
   "cell_type": "markdown",
   "metadata": {},
   "source": [
    "### Generate csv files for all cells"
   ]
  },
  {
   "cell_type": "code",
   "execution_count": 26,
   "metadata": {},
   "outputs": [],
   "source": [
    "\n",
    "# The paths are for the generated csv files\n",
    "wt_csv=[]\n",
    "ctrl_csv=[]\n",
    "wt_path = CSV_DIR + 'wt'\n",
    "ctrl_path=CSV_DIR + 'ctrl'\n",
    "\n",
    "for folder in natsorted(glob.glob(wt_path + '/*')):\n",
    "    wt_csv.append(wt_path + '/' + folder.split('/')[-1].split('.')[0])\n",
    "    \n",
    "for folder in natsorted(glob.glob(ctrl_path + '/*')):\n",
    "    ctrl_csv.append(ctrl_path + '/' + folder.split('/')[-1].split('.')[0])  \n",
    "  "
   ]
  },
  {
   "cell_type": "code",
   "execution_count": 27,
   "metadata": {},
   "outputs": [],
   "source": [
    "# read wildtype csvs to a dataframe\n",
    "cell_count=1\n",
    "path = GRAPHS_DIR + FOLDER\n",
    "try:\n",
    "    os.makedirs(path)\n",
    "except FileExistsError:\n",
    "    # directory already exists\n",
    "    pass\n",
    "df_graph_wt=pd.DataFrame()\n",
    "for i in range(len(wt_csv)):\n",
    "    df_wt=pd.read_csv(wt_csv[i]+'/'+'Particles.csv')\n",
    "    df_wt['CENP_B_ds_red@kt/CENP_B_ds_red@cyto']= df_wt['mean_intensity_CENP_B_ds_red']/df_wt['CENP_B_ds_red_cyto']\n",
    "    df_wt['YFP_astrin@kt/YFP_astrin@cyto']= df_wt['mean_intensity_YFP_astrin']/df_wt['YFP_astrin_cyto']\n",
    "    df_wt['CENP_B_ds_red@kt/CENP_B_ds_red@cyto:YFP_astrin@kt/YFP_astrin@cyto']= df_wt['CENP_B_ds_red@kt/CENP_B_ds_red@cyto'] / df_wt['YFP_astrin@kt/YFP_astrin@cyto']\n",
    "    df_wt['condition']='WildType'\n",
    "    df_wt['cell']=FOLDER+\"_\"+'WildT_cell_'+str(cell_count)\n",
    "    expt_name=re.sub(r'^.+/([^/]+)$', r'\\1', wt_csv[i])\n",
    "    df_wt['Experiment']= expt_name\n",
    "    fname=FOLDER+'wt_'+ str(i)\n",
    "    df_wt_final=outliers_astrin(df_wt)\n",
    "    df_wt_final.to_csv(GRAPHS_DIR + FOLDER+'/' + fname +'.csv') \n",
    "    df_graph_wt=pd.concat([df_graph_wt,df_wt_final],ignore_index=True)    \n",
    "    cell_count+=1\n",
    "df_graph_wt = df_graph_wt.drop(columns=[\"Unnamed: 0\"], axis=1)    \n",
    "\n",
    "df_graph_wt.to_csv(GRAPHS_DIR + FOLDER+'/' +FOLDER+ \"_\" +'wt_astrin_graphs'+'.csv') \n",
    "\n"
   ]
  },
  {
   "cell_type": "code",
   "execution_count": 28,
   "metadata": {},
   "outputs": [],
   "source": [
    "\n",
    "# read q1012\n",
    "cell_count=1\n",
    "path = GRAPHS_DIR + FOLDER\n",
    "try:\n",
    "    os.makedirs(path)\n",
    "except FileExistsError:\n",
    "    # directory already exists\n",
    "    pass\n",
    "df_graph_ctrl=pd.DataFrame()\n",
    "for i in range(len(ctrl_csv)):\n",
    "    df_ctrl=pd.read_csv(ctrl_csv[i]+'/'+'Particles.csv')\n",
    "    df_ctrl['CENP_B_ds_red@kt/CENP_B_ds_red@cyto']= df_ctrl['mean_intensity_CENP_B_ds_red']/df_ctrl['CENP_B_ds_red_cyto']\n",
    "    df_ctrl['YFP_astrin@kt/YFP_astrin@cyto']= df_ctrl['mean_intensity_YFP_astrin']/df_ctrl['YFP_astrin_cyto']\n",
    "    df_ctrl['CENP_B_ds_red@kt/CENP_B_ds_red@cyto:YFP_astrin@kt/YFP_astrin@cyto']= df_ctrl['CENP_B_ds_red@kt/CENP_B_ds_red@cyto'] / df_ctrl['YFP_astrin@kt/YFP_astrin@cyto']\n",
    "    df_ctrl['condition']='Q1012'\n",
    "    df_ctrl['cell']=FOLDER+\"_\"+'Q1012_cell_'+str(cell_count)\n",
    "    expt_name=re.sub(r'^.+/([^/]+)$', r'\\1', ctrl_csv[i])\n",
    "    df_ctrl['Experiment']= expt_name\n",
    "    fname=FOLDER+'ctrl_'+str(i)\n",
    "    df_ctrl_final=outliers_astrin(df_ctrl)\n",
    "    df_ctrl_final.to_csv(GRAPHS_DIR + FOLDER+'/' + fname +'.csv') \n",
    "    df_graph_ctrl=pd.concat([df_graph_ctrl,df_ctrl_final],ignore_index=True)  \n",
    "    cell_count+=1\n",
    "    \n",
    "df_graph_ctrl = df_graph_ctrl.drop(columns=[\"Unnamed: 0\"], axis=1)    \n",
    "\n",
    "df_graph_ctrl.to_csv(GRAPHS_DIR + FOLDER+'/' +FOLDER+ \"_\" + 'ctrl_astrin_graphs'+'.csv') \n"
   ]
  },
  {
   "cell_type": "code",
   "execution_count": 29,
   "metadata": {},
   "outputs": [
    {
     "name": "stdout",
     "output_type": "stream",
     "text": [
      "984\n",
      "1107\n",
      "2091\n"
     ]
    }
   ],
   "source": [
    "df_graph=pd.DataFrame()\n",
    "df_graph=pd.concat([df_graph,df_graph_wt,df_graph_ctrl],ignore_index=True)\n",
    "print(len(df_graph_wt))\n",
    "print(len(df_graph_ctrl))\n",
    "print(len(df_graph))\n",
    "df_graph.head()\n",
    "df_graph.to_csv(GRAPHS_DIR + FOLDER+'/' +FOLDER+ \"_\" + 'astrin_wt_combined_graphs'+'.csv') \n",
    "#df_graph.head()"
   ]
  },
  {
   "cell_type": "code",
   "execution_count": 30,
   "metadata": {},
   "outputs": [],
   "source": [
    "# count the number of KTs in CDKi and DMSO\n",
    "ctrl = df_graph[df_graph['condition']=='Q1012'].shape[0]\n",
    "wt = df_graph[df_graph['condition']=='WildType'].shape[0]"
   ]
  },
  {
   "cell_type": "code",
   "execution_count": null,
   "metadata": {},
   "outputs": [],
   "source": []
  }
 ],
 "metadata": {
  "kernelspec": {
   "display_name": "Python 3",
   "language": "python",
   "name": "python3"
  },
  "language_info": {
   "codemirror_mode": {
    "name": "ipython",
    "version": 3
   },
   "file_extension": ".py",
   "mimetype": "text/x-python",
   "name": "python",
   "nbconvert_exporter": "python",
   "pygments_lexer": "ipython3",
   "version": "3.7.0"
  }
 },
 "nbformat": 4,
 "nbformat_minor": 4
}
