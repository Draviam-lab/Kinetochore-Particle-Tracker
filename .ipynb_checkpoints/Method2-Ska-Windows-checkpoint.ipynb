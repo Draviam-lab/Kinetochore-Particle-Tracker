{
 "cells": [
  {
   "cell_type": "code",
   "execution_count": 1,
   "metadata": {},
   "outputs": [
    {
     "data": {
      "text/plain": [
       "'\\nThis is the methods notebook for  SKaWT-Q70* Datasets.\\n\\nCopyright (C) 2021 - Trupti Gore.\\n\\nLicense: GPL-3. \\n'"
      ]
     },
     "execution_count": 1,
     "metadata": {},
     "output_type": "execute_result"
    }
   ],
   "source": [
    "'''\n",
    "This is the methods notebook for  SKaWT-Q70* Datasets.\n",
    "\n",
    "Copyright (C) 2021 - Trupti Gore.\n",
    "\n",
    "License: GPL-3. \n",
    "'''\n",
    "\n"
   ]
  },
  {
   "cell_type": "code",
   "execution_count": 2,
   "metadata": {},
   "outputs": [],
   "source": [
    "# import necessary modules\n",
    "from skimage import io\n",
    "import matplotlib.pyplot as plt\n",
    "import numpy as np\n",
    "import skimage.filters as filters\n",
    "import skimage.color as color\n",
    "from PIL import Image\n",
    "import pandas as pd\n",
    "from skimage.util import img_as_float\n",
    "from skimage.color import label2rgb, rgb2gray,gray2rgb\n",
    "from skimage import segmentation,morphology,feature,measure,filters\n",
    "from scipy import ndimage as ndi\n",
    "import glob\n",
    "from natsort import natsorted \n",
    "import os\n",
    "import glob\n",
    "import re\n",
    "import random"
   ]
  },
  {
   "cell_type": "code",
   "execution_count": 3,
   "metadata": {},
   "outputs": [],
   "source": [
    "# import function file\n",
    "%run functions-Method-ska.ipynb\n",
    "random.seed(3)"
   ]
  },
  {
   "cell_type": "code",
   "execution_count": 4,
   "metadata": {},
   "outputs": [],
   "source": [
    "# path to the local folder for the notebooks\n",
    "BASE_DIR=\"/Users/Trupti/07-ImageAnalysis/\" \n",
    "#path to the image folder\n",
    "\n",
    "FOLDER=\"SKA\"\n",
    "IMAGE_DIR=BASE_DIR + \"data/CMovie/\" + FOLDER + \"/\"\n",
    "CSV_DIR = BASE_DIR + \"Kinetochore-Particle-Tracker/AnalysisResults/CMovie/\" + FOLDER +\"/\" + \"csvs/\"\n",
    "GRAPHS_DIR= BASE_DIR + \"Kinetochore-Particle-Tracker/GraphAnalysis/AstrinSka/\"\n",
    "\n"
   ]
  },
  {
   "cell_type": "markdown",
   "metadata": {},
   "source": [
    "#### A List for the Images Folders"
   ]
  },
  {
   "cell_type": "code",
   "execution_count": 5,
   "metadata": {},
   "outputs": [],
   "source": [
    "wt=[]\n",
    "ctrl=[]\n",
    "wt_path = IMAGE_DIR + 'wt'\n",
    "ctrl_path=IMAGE_DIR + 'control'\n",
    "\n",
    "for folder in glob.glob(wt_path + '/*'):\n",
    "    wt.append(wt_path + '/' + folder.split('\\\\')[-1].split('.')[0])\n",
    "for folder in glob.glob(ctrl_path + '/*'):\n",
    "    ctrl.append(ctrl_path + '/' + folder.split('\\\\')[-1].split('.')[0])     \n"
   ]
  },
  {
   "cell_type": "code",
   "execution_count": 6,
   "metadata": {},
   "outputs": [],
   "source": [
    "# For wt\n",
    "\n",
    "for i in range(len(wt)):\n",
    "    \n",
    "    df_GFP_ska,df_CENP_B_ds_red=method_cenpb(wt[i],FOLDER)\n",
    "    \n",
    "    df=pd.merge(df_GFP_ska, df_CENP_B_ds_red,  how='outer',on=['label','area']\n",
    "                                                       ,suffixes=('_GFP_ska', '_CENP_B_ds_red'))\n",
    "    \n",
    "    directory=wt[i].split('/')[-1].split('.')[0] # to create a folder per experiment to save csvs\n",
    "    path = CSV_DIR + 'wt/' + directory\n",
    "    \n",
    "    try:\n",
    "        os.makedirs(path)\n",
    "    except FileExistsError:\n",
    "    # directory already exists\n",
    "        pass\n",
    "    check_nan_in_df = df.isnull().values.any()\n",
    "    if check_nan_in_df >0:\n",
    "        df=df.dropna()\n",
    "        print(\"NaNs removed from %s \" %( directory))\n",
    "    \n",
    "    df.to_csv(path + '/' + 'particles'+'.csv',index=False) \n",
    "   "
   ]
  },
  {
   "cell_type": "code",
   "execution_count": 7,
   "metadata": {},
   "outputs": [],
   "source": [
    "# For control\n",
    "\n",
    "for i in range(len(ctrl)):\n",
    "    \n",
    "    df_GFP_ska,df_CENP_B_ds_red=method_cenpb(ctrl[i],FOLDER) \n",
    "    \n",
    "    df=pd.merge(df_GFP_ska, df_CENP_B_ds_red,  how='outer',on=['label','area']\n",
    "                                                       ,suffixes=('_GFP_ska', '_CENP_B_ds_red'))\n",
    "    \n",
    "    directory=ctrl[i].split('/')[-1].split('.')[0] # to create a folder per experiment to save csvs\n",
    "    path = CSV_DIR + 'ctrl/' + directory\n",
    "    try:\n",
    "        os.makedirs(path)\n",
    "    except FileExistsError:\n",
    "    # directory already exists\n",
    "        pass\n",
    "    check_nan_in_df = df.isnull().values.any()\n",
    "    if check_nan_in_df >0:\n",
    "        df=df.dropna()\n",
    "        print(\"NaNs removed from %s \" %( directory))\n",
    "    \n",
    "    df.to_csv(path + '/' + 'particles'+'.csv',index=False) \n",
    "   "
   ]
  },
  {
   "cell_type": "markdown",
   "metadata": {},
   "source": [
    "### Generate csv files for all cells"
   ]
  },
  {
   "cell_type": "code",
   "execution_count": 8,
   "metadata": {},
   "outputs": [],
   "source": [
    "\n",
    "# The paths are for the generated csv files\n",
    "wt_csv=[]\n",
    "ctrl_csv=[]\n",
    "wt_path = CSV_DIR + 'wt'\n",
    "ctrl_path=CSV_DIR + 'ctrl'\n",
    "\n",
    "for folder in natsorted(glob.glob(wt_path + '/*')):\n",
    "    wt_csv.append(wt_path + '/' + folder.split('\\\\')[-1].split('.')[0])\n",
    "    \n",
    "for folder in natsorted(glob.glob(ctrl_path + '/*')):\n",
    "    ctrl_csv.append(ctrl_path + '/' + folder.split('\\\\')[-1].split('.')[0])  \n",
    "  "
   ]
  },
  {
   "cell_type": "code",
   "execution_count": 9,
   "metadata": {},
   "outputs": [
    {
     "ename": "FileNotFoundError",
     "evalue": "[Errno 2] No such file or directory: '/Users/Trupti/07-ImageAnalysis/Kinetochore-Particle-Tracker/AnalysisResults/CMovie/SKA/csvs/wt//Users/Trupti/07-ImageAnalysis/Kinetochore-Particle-Tracker/AnalysisResults/CMovie/SKA/csvs/wt/EXPT-2021-005-SET5_GFP-SKA3WT_CENPBdsRed_MG132_MITOSIS1_R3D_D3D/Particles.csv'",
     "output_type": "error",
     "traceback": [
      "\u001b[0;31m---------------------------------------------------------------------------\u001b[0m",
      "\u001b[0;31mFileNotFoundError\u001b[0m                         Traceback (most recent call last)",
      "\u001b[0;32m/var/folders/nw/b5trlz_d7819ystdc2gmcwbw0000gn/T/ipykernel_2635/1476882693.py\u001b[0m in \u001b[0;36m<module>\u001b[0;34m\u001b[0m\n\u001b[1;32m      9\u001b[0m \u001b[0mdf_graph_wt\u001b[0m\u001b[0;34m=\u001b[0m\u001b[0mpd\u001b[0m\u001b[0;34m.\u001b[0m\u001b[0mDataFrame\u001b[0m\u001b[0;34m(\u001b[0m\u001b[0;34m)\u001b[0m\u001b[0;34m\u001b[0m\u001b[0;34m\u001b[0m\u001b[0m\n\u001b[1;32m     10\u001b[0m \u001b[0;32mfor\u001b[0m \u001b[0mi\u001b[0m \u001b[0;32min\u001b[0m \u001b[0mrange\u001b[0m\u001b[0;34m(\u001b[0m\u001b[0mlen\u001b[0m\u001b[0;34m(\u001b[0m\u001b[0mwt_csv\u001b[0m\u001b[0;34m)\u001b[0m\u001b[0;34m)\u001b[0m\u001b[0;34m:\u001b[0m\u001b[0;34m\u001b[0m\u001b[0;34m\u001b[0m\u001b[0m\n\u001b[0;32m---> 11\u001b[0;31m     \u001b[0mdf_wt\u001b[0m\u001b[0;34m=\u001b[0m\u001b[0mpd\u001b[0m\u001b[0;34m.\u001b[0m\u001b[0mread_csv\u001b[0m\u001b[0;34m(\u001b[0m\u001b[0mwt_csv\u001b[0m\u001b[0;34m[\u001b[0m\u001b[0mi\u001b[0m\u001b[0;34m]\u001b[0m\u001b[0;34m+\u001b[0m\u001b[0;34m'/'\u001b[0m\u001b[0;34m+\u001b[0m\u001b[0;34m'Particles.csv'\u001b[0m\u001b[0;34m)\u001b[0m\u001b[0;34m\u001b[0m\u001b[0;34m\u001b[0m\u001b[0m\n\u001b[0m\u001b[1;32m     12\u001b[0m     \u001b[0mdf_wt\u001b[0m\u001b[0;34m[\u001b[0m\u001b[0;34m'CENP_B_ds_red@kt/CENP_B_ds_red@cyto'\u001b[0m\u001b[0;34m]\u001b[0m\u001b[0;34m=\u001b[0m \u001b[0mdf_wt\u001b[0m\u001b[0;34m[\u001b[0m\u001b[0;34m'mean_intensity_CENP_B_ds_red'\u001b[0m\u001b[0;34m]\u001b[0m\u001b[0;34m/\u001b[0m\u001b[0mdf_wt\u001b[0m\u001b[0;34m[\u001b[0m\u001b[0;34m'CENP_B_ds_red_cyto'\u001b[0m\u001b[0;34m]\u001b[0m\u001b[0;34m\u001b[0m\u001b[0;34m\u001b[0m\u001b[0m\n\u001b[1;32m     13\u001b[0m     \u001b[0mdf_wt\u001b[0m\u001b[0;34m[\u001b[0m\u001b[0;34m'GFP_ska@kt/GFP_ska@cyto'\u001b[0m\u001b[0;34m]\u001b[0m\u001b[0;34m=\u001b[0m \u001b[0mdf_wt\u001b[0m\u001b[0;34m[\u001b[0m\u001b[0;34m'mean_intensity_GFP_ska'\u001b[0m\u001b[0;34m]\u001b[0m\u001b[0;34m/\u001b[0m\u001b[0mdf_wt\u001b[0m\u001b[0;34m[\u001b[0m\u001b[0;34m'GFP_ska_cyto'\u001b[0m\u001b[0;34m]\u001b[0m\u001b[0;34m\u001b[0m\u001b[0;34m\u001b[0m\u001b[0m\n",
      "\u001b[0;32m~/anaconda3/envs/tf/lib/python3.7/site-packages/pandas/io/parsers.py\u001b[0m in \u001b[0;36mread_csv\u001b[0;34m(filepath_or_buffer, sep, delimiter, header, names, index_col, usecols, squeeze, prefix, mangle_dupe_cols, dtype, engine, converters, true_values, false_values, skipinitialspace, skiprows, skipfooter, nrows, na_values, keep_default_na, na_filter, verbose, skip_blank_lines, parse_dates, infer_datetime_format, keep_date_col, date_parser, dayfirst, cache_dates, iterator, chunksize, compression, thousands, decimal, lineterminator, quotechar, quoting, doublequote, escapechar, comment, encoding, dialect, error_bad_lines, warn_bad_lines, delim_whitespace, low_memory, memory_map, float_precision)\u001b[0m\n\u001b[1;32m    684\u001b[0m     )\n\u001b[1;32m    685\u001b[0m \u001b[0;34m\u001b[0m\u001b[0m\n\u001b[0;32m--> 686\u001b[0;31m     \u001b[0;32mreturn\u001b[0m \u001b[0m_read\u001b[0m\u001b[0;34m(\u001b[0m\u001b[0mfilepath_or_buffer\u001b[0m\u001b[0;34m,\u001b[0m \u001b[0mkwds\u001b[0m\u001b[0;34m)\u001b[0m\u001b[0;34m\u001b[0m\u001b[0;34m\u001b[0m\u001b[0m\n\u001b[0m\u001b[1;32m    687\u001b[0m \u001b[0;34m\u001b[0m\u001b[0m\n\u001b[1;32m    688\u001b[0m \u001b[0;34m\u001b[0m\u001b[0m\n",
      "\u001b[0;32m~/anaconda3/envs/tf/lib/python3.7/site-packages/pandas/io/parsers.py\u001b[0m in \u001b[0;36m_read\u001b[0;34m(filepath_or_buffer, kwds)\u001b[0m\n\u001b[1;32m    450\u001b[0m \u001b[0;34m\u001b[0m\u001b[0m\n\u001b[1;32m    451\u001b[0m     \u001b[0;31m# Create the parser.\u001b[0m\u001b[0;34m\u001b[0m\u001b[0;34m\u001b[0m\u001b[0;34m\u001b[0m\u001b[0m\n\u001b[0;32m--> 452\u001b[0;31m     \u001b[0mparser\u001b[0m \u001b[0;34m=\u001b[0m \u001b[0mTextFileReader\u001b[0m\u001b[0;34m(\u001b[0m\u001b[0mfp_or_buf\u001b[0m\u001b[0;34m,\u001b[0m \u001b[0;34m**\u001b[0m\u001b[0mkwds\u001b[0m\u001b[0;34m)\u001b[0m\u001b[0;34m\u001b[0m\u001b[0;34m\u001b[0m\u001b[0m\n\u001b[0m\u001b[1;32m    453\u001b[0m \u001b[0;34m\u001b[0m\u001b[0m\n\u001b[1;32m    454\u001b[0m     \u001b[0;32mif\u001b[0m \u001b[0mchunksize\u001b[0m \u001b[0;32mor\u001b[0m \u001b[0miterator\u001b[0m\u001b[0;34m:\u001b[0m\u001b[0;34m\u001b[0m\u001b[0;34m\u001b[0m\u001b[0m\n",
      "\u001b[0;32m~/anaconda3/envs/tf/lib/python3.7/site-packages/pandas/io/parsers.py\u001b[0m in \u001b[0;36m__init__\u001b[0;34m(self, f, engine, **kwds)\u001b[0m\n\u001b[1;32m    944\u001b[0m             \u001b[0mself\u001b[0m\u001b[0;34m.\u001b[0m\u001b[0moptions\u001b[0m\u001b[0;34m[\u001b[0m\u001b[0;34m\"has_index_names\"\u001b[0m\u001b[0;34m]\u001b[0m \u001b[0;34m=\u001b[0m \u001b[0mkwds\u001b[0m\u001b[0;34m[\u001b[0m\u001b[0;34m\"has_index_names\"\u001b[0m\u001b[0;34m]\u001b[0m\u001b[0;34m\u001b[0m\u001b[0;34m\u001b[0m\u001b[0m\n\u001b[1;32m    945\u001b[0m \u001b[0;34m\u001b[0m\u001b[0m\n\u001b[0;32m--> 946\u001b[0;31m         \u001b[0mself\u001b[0m\u001b[0;34m.\u001b[0m\u001b[0m_make_engine\u001b[0m\u001b[0;34m(\u001b[0m\u001b[0mself\u001b[0m\u001b[0;34m.\u001b[0m\u001b[0mengine\u001b[0m\u001b[0;34m)\u001b[0m\u001b[0;34m\u001b[0m\u001b[0;34m\u001b[0m\u001b[0m\n\u001b[0m\u001b[1;32m    947\u001b[0m \u001b[0;34m\u001b[0m\u001b[0m\n\u001b[1;32m    948\u001b[0m     \u001b[0;32mdef\u001b[0m \u001b[0mclose\u001b[0m\u001b[0;34m(\u001b[0m\u001b[0mself\u001b[0m\u001b[0;34m)\u001b[0m\u001b[0;34m:\u001b[0m\u001b[0;34m\u001b[0m\u001b[0;34m\u001b[0m\u001b[0m\n",
      "\u001b[0;32m~/anaconda3/envs/tf/lib/python3.7/site-packages/pandas/io/parsers.py\u001b[0m in \u001b[0;36m_make_engine\u001b[0;34m(self, engine)\u001b[0m\n\u001b[1;32m   1176\u001b[0m     \u001b[0;32mdef\u001b[0m \u001b[0m_make_engine\u001b[0m\u001b[0;34m(\u001b[0m\u001b[0mself\u001b[0m\u001b[0;34m,\u001b[0m \u001b[0mengine\u001b[0m\u001b[0;34m=\u001b[0m\u001b[0;34m\"c\"\u001b[0m\u001b[0;34m)\u001b[0m\u001b[0;34m:\u001b[0m\u001b[0;34m\u001b[0m\u001b[0;34m\u001b[0m\u001b[0m\n\u001b[1;32m   1177\u001b[0m         \u001b[0;32mif\u001b[0m \u001b[0mengine\u001b[0m \u001b[0;34m==\u001b[0m \u001b[0;34m\"c\"\u001b[0m\u001b[0;34m:\u001b[0m\u001b[0;34m\u001b[0m\u001b[0;34m\u001b[0m\u001b[0m\n\u001b[0;32m-> 1178\u001b[0;31m             \u001b[0mself\u001b[0m\u001b[0;34m.\u001b[0m\u001b[0m_engine\u001b[0m \u001b[0;34m=\u001b[0m \u001b[0mCParserWrapper\u001b[0m\u001b[0;34m(\u001b[0m\u001b[0mself\u001b[0m\u001b[0;34m.\u001b[0m\u001b[0mf\u001b[0m\u001b[0;34m,\u001b[0m \u001b[0;34m**\u001b[0m\u001b[0mself\u001b[0m\u001b[0;34m.\u001b[0m\u001b[0moptions\u001b[0m\u001b[0;34m)\u001b[0m\u001b[0;34m\u001b[0m\u001b[0;34m\u001b[0m\u001b[0m\n\u001b[0m\u001b[1;32m   1179\u001b[0m         \u001b[0;32melse\u001b[0m\u001b[0;34m:\u001b[0m\u001b[0;34m\u001b[0m\u001b[0;34m\u001b[0m\u001b[0m\n\u001b[1;32m   1180\u001b[0m             \u001b[0;32mif\u001b[0m \u001b[0mengine\u001b[0m \u001b[0;34m==\u001b[0m \u001b[0;34m\"python\"\u001b[0m\u001b[0;34m:\u001b[0m\u001b[0;34m\u001b[0m\u001b[0;34m\u001b[0m\u001b[0m\n",
      "\u001b[0;32m~/anaconda3/envs/tf/lib/python3.7/site-packages/pandas/io/parsers.py\u001b[0m in \u001b[0;36m__init__\u001b[0;34m(self, src, **kwds)\u001b[0m\n\u001b[1;32m   2006\u001b[0m         \u001b[0mkwds\u001b[0m\u001b[0;34m[\u001b[0m\u001b[0;34m\"usecols\"\u001b[0m\u001b[0;34m]\u001b[0m \u001b[0;34m=\u001b[0m \u001b[0mself\u001b[0m\u001b[0;34m.\u001b[0m\u001b[0musecols\u001b[0m\u001b[0;34m\u001b[0m\u001b[0;34m\u001b[0m\u001b[0m\n\u001b[1;32m   2007\u001b[0m \u001b[0;34m\u001b[0m\u001b[0m\n\u001b[0;32m-> 2008\u001b[0;31m         \u001b[0mself\u001b[0m\u001b[0;34m.\u001b[0m\u001b[0m_reader\u001b[0m \u001b[0;34m=\u001b[0m \u001b[0mparsers\u001b[0m\u001b[0;34m.\u001b[0m\u001b[0mTextReader\u001b[0m\u001b[0;34m(\u001b[0m\u001b[0msrc\u001b[0m\u001b[0;34m,\u001b[0m \u001b[0;34m**\u001b[0m\u001b[0mkwds\u001b[0m\u001b[0;34m)\u001b[0m\u001b[0;34m\u001b[0m\u001b[0;34m\u001b[0m\u001b[0m\n\u001b[0m\u001b[1;32m   2009\u001b[0m         \u001b[0mself\u001b[0m\u001b[0;34m.\u001b[0m\u001b[0munnamed_cols\u001b[0m \u001b[0;34m=\u001b[0m \u001b[0mself\u001b[0m\u001b[0;34m.\u001b[0m\u001b[0m_reader\u001b[0m\u001b[0;34m.\u001b[0m\u001b[0munnamed_cols\u001b[0m\u001b[0;34m\u001b[0m\u001b[0;34m\u001b[0m\u001b[0m\n\u001b[1;32m   2010\u001b[0m \u001b[0;34m\u001b[0m\u001b[0m\n",
      "\u001b[0;32mpandas/_libs/parsers.pyx\u001b[0m in \u001b[0;36mpandas._libs.parsers.TextReader.__cinit__\u001b[0;34m()\u001b[0m\n",
      "\u001b[0;32mpandas/_libs/parsers.pyx\u001b[0m in \u001b[0;36mpandas._libs.parsers.TextReader._setup_parser_source\u001b[0;34m()\u001b[0m\n",
      "\u001b[0;31mFileNotFoundError\u001b[0m: [Errno 2] No such file or directory: '/Users/Trupti/07-ImageAnalysis/Kinetochore-Particle-Tracker/AnalysisResults/CMovie/SKA/csvs/wt//Users/Trupti/07-ImageAnalysis/Kinetochore-Particle-Tracker/AnalysisResults/CMovie/SKA/csvs/wt/EXPT-2021-005-SET5_GFP-SKA3WT_CENPBdsRed_MG132_MITOSIS1_R3D_D3D/Particles.csv'"
     ]
    }
   ],
   "source": [
    "# read wildtype csvs to a dataframe\n",
    "cell_count=1\n",
    "path = GRAPHS_DIR + FOLDER\n",
    "try:\n",
    "    os.makedirs(path)\n",
    "except FileExistsError:\n",
    "    # directory already exists\n",
    "    pass\n",
    "df_graph_wt=pd.DataFrame()\n",
    "for i in range(len(wt_csv)):\n",
    "    df_wt=pd.read_csv(wt_csv[i]+'/'+'Particles.csv')\n",
    "    df_wt['CENP_B_ds_red@kt/CENP_B_ds_red@cyto']= df_wt['mean_intensity_CENP_B_ds_red']/df_wt['CENP_B_ds_red_cyto']\n",
    "    df_wt['GFP_ska@kt/GFP_ska@cyto']= df_wt['mean_intensity_GFP_ska']/df_wt['GFP_ska_cyto']\n",
    "    df_wt['CENP_B_ds_red@kt/CENP_B_ds_red@cyto:GFP_ska@kt/GFP_ska@cyto']= df_wt['CENP_B_ds_red@kt/CENP_B_ds_red@cyto'] / df_wt['GFP_ska@kt/GFP_ska@cyto']\n",
    "    df_wt['condition']='WildType'\n",
    "    df_wt['cell']=FOLDER+\"_\"+'WildT_cell_'+str(cell_count)\n",
    "    expt_name=re.sub(r'^.+/([^/]+)$', r'\\1', wt_csv[i])\n",
    "    df_wt['Experiment']= expt_name\n",
    "    fname=FOLDER+'wt_'+ str(i)\n",
    "    df_wt_final=outliers_ska(df_wt)\n",
    "    df_wt_final.to_csv(GRAPHS_DIR + FOLDER+'/' + fname +'.csv') \n",
    "    df_graph_wt=pd.concat([df_graph_wt,df_wt_final],ignore_index=True)    \n",
    "    cell_count+=1\n",
    "#df_graph_wt = df_graph_wt.drop(columns=[\"Unnamed: 0\"], axis=1)    \n",
    "\n",
    "df_graph_wt.to_csv(GRAPHS_DIR + FOLDER+'/' +FOLDER+ \"_\" +'wt_ska_graphs'+'.csv',index=False) \n",
    "\n"
   ]
  },
  {
   "cell_type": "code",
   "execution_count": null,
   "metadata": {},
   "outputs": [],
   "source": [
    "\n",
    "# read Q70K\n",
    "cell_count=1\n",
    "path = GRAPHS_DIR + FOLDER\n",
    "try:\n",
    "    os.makedirs(path)\n",
    "except FileExistsError:\n",
    "    # directory already exists\n",
    "    pass\n",
    "df_graph_ctrl=pd.DataFrame()\n",
    "for i in range(len(ctrl_csv)):\n",
    "    df_ctrl=pd.read_csv(ctrl_csv[i]+'/'+'Particles.csv')\n",
    "    df_ctrl['CENP_B_ds_red@kt/CENP_B_ds_red@cyto']= df_ctrl['mean_intensity_CENP_B_ds_red']/df_ctrl['CENP_B_ds_red_cyto']\n",
    "    df_ctrl['GFP_ska@kt/GFP_ska@cyto']= df_ctrl['mean_intensity_GFP_ska']/df_ctrl['GFP_ska_cyto']\n",
    "    df_ctrl['CENP_B_ds_red@kt/CENP_B_ds_red@cyto:GFP_ska@kt/GFP_ska@cyto']= df_ctrl['CENP_B_ds_red@kt/CENP_B_ds_red@cyto'] / df_ctrl['GFP_ska@kt/GFP_ska@cyto']\n",
    "    df_ctrl['condition']='Q70K'\n",
    "    df_ctrl['cell']=FOLDER+\"_\"+'Q70K_cell_'+str(cell_count)\n",
    "    expt_name=re.sub(r'^.+/([^/]+)$', r'\\1', ctrl_csv[i])\n",
    "    df_ctrl['Experiment']= expt_name\n",
    "    fname=FOLDER+'ctrl_'+str(i)\n",
    "    df_ctrl_final=outliers_ska(df_ctrl)\n",
    "    df_ctrl_final.to_csv(GRAPHS_DIR + FOLDER+'/' + fname +'.csv') \n",
    "    df_graph_ctrl=pd.concat([df_graph_ctrl,df_ctrl_final],ignore_index=True)  \n",
    "    cell_count+=1\n",
    "    \n",
    "#df_graph_ctrl = df_graph_ctrl.drop(columns=[\"Unnamed: 0\"], axis=1)    \n",
    "\n",
    "df_graph_ctrl.to_csv(GRAPHS_DIR + FOLDER+'/' +FOLDER+ \"_\" + 'ctrl_ska_graphs'+'.csv',index=False) \n"
   ]
  },
  {
   "cell_type": "code",
   "execution_count": null,
   "metadata": {},
   "outputs": [],
   "source": [
    "df_graph=pd.DataFrame()\n",
    "df_graph=pd.concat([df_graph,df_graph_wt,df_graph_ctrl],ignore_index=True)\n",
    "print((\"Number of particles for WildType:  \",len(df_graph_wt))\n",
    "print((\"Number of particles for Control:  \",len(df_graph_ctrl))\n",
    "print(len(df_graph))\n",
    "df_graph.head()\n",
    "df_graph.to_csv(GRAPHS_DIR + FOLDER+'/' +FOLDER+ \"_\" + 'ska_wt_combined_graphs'+'.csv',index=False) \n",
    "#df_graph.head()"
   ]
  },
  {
   "cell_type": "code",
   "execution_count": null,
   "metadata": {},
   "outputs": [],
   "source": []
  }
 ],
 "metadata": {
  "kernelspec": {
   "display_name": "Python 3 (ipykernel)",
   "language": "python",
   "name": "python3"
  },
  "language_info": {
   "codemirror_mode": {
    "name": "ipython",
    "version": 3
   },
   "file_extension": ".py",
   "mimetype": "text/x-python",
   "name": "python",
   "nbconvert_exporter": "python",
   "pygments_lexer": "ipython3",
   "version": "3.7.7"
  }
 },
 "nbformat": 4,
 "nbformat_minor": 4
}
